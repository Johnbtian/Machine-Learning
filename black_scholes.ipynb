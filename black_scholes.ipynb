{
 "cells": [
  {
   "cell_type": "code",
   "execution_count": 18,
   "id": "90ca8b08",
   "metadata": {},
   "outputs": [
    {
     "name": "stdout",
     "output_type": "stream",
     "text": [
      "Option price is:  7.4\n"
     ]
    }
   ],
   "source": [
    "#import numpy as np\n",
    "import math\n",
    "from scipy.stats import norm\n",
    "\n",
    "\n",
    "call_option = True\n",
    "stock_price = 100\n",
    "strike_price = 105\n",
    "time_to_expiry = 0.5\n",
    "risk_free_rate = 0.05\n",
    "volatility = 0.3\n",
    "\n",
    "\n",
    "def black_scholes(stock_price, strike_price, time_to_expiry, risk_free_rate, volatility,type=\"call_option\"):\n",
    "   # Calculate d1 and d2\n",
    "    d1 = (math.log(stock_price / strike_price) + (risk_free_rate + 0.5 * volatility**2) * time_to_expiry) / (volatility * math.sqrt(time_to_expiry))\n",
    "    d2 = d1 - volatility * math.sqrt(time_to_expiry)\n",
    "\n",
    "    # Calculate theoretical value of option\n",
    "    if type==\"call_option\":\n",
    "        option_value = stock_price * norm.cdf(d1) - strike_price * math.exp(-risk_free_rate * time_to_expiry) * norm.cdf(d2)\n",
    "    elif type==\"put_option\":\n",
    "        option_value = strike_price * math.exp(-risk_free_rate * time_to_expiry) * norm.cdf(-d2) - stock_price * norm.cdf(-d1)\n",
    "\n",
    "    return option_value\n",
    "\n",
    "#option_value = black_scholes(call_option, stock_price, strike_price, time_to_expiry, risk_free_rate, volatility)\n",
    "#print(option_value)\n",
    "print(\"Option price is: \", round(black_scholes(stock_price, strike_price, time_to_expiry, risk_free_rate, volatility,type=\"call_option\"), 2))\n"
   ]
  },
  {
   "cell_type": "code",
   "execution_count": 19,
   "id": "3b29957f",
   "metadata": {},
   "outputs": [
    {
     "name": "stdout",
     "output_type": "stream",
     "text": [
      "Option price is:  9.81\n"
     ]
    }
   ],
   "source": [
    "print(\"Option price is: \", round(black_scholes(stock_price, strike_price, time_to_expiry, risk_free_rate, volatility,type=\"put_option\"), 2))\n"
   ]
  },
  {
   "cell_type": "code",
   "execution_count": null,
   "id": "d4d305b7",
   "metadata": {},
   "outputs": [],
   "source": []
  }
 ],
 "metadata": {
  "kernelspec": {
   "display_name": "Python 3 (ipykernel)",
   "language": "python",
   "name": "python3"
  },
  "language_info": {
   "codemirror_mode": {
    "name": "ipython",
    "version": 3
   },
   "file_extension": ".py",
   "mimetype": "text/x-python",
   "name": "python",
   "nbconvert_exporter": "python",
   "pygments_lexer": "ipython3",
   "version": "3.9.12"
  }
 },
 "nbformat": 4,
 "nbformat_minor": 5
}
