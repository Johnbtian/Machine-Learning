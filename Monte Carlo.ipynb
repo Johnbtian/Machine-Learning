{
 "cells": [
  {
   "cell_type": "code",
   "execution_count": null,
   "id": "93e8af17",
   "metadata": {},
   "outputs": [],
   "source": [
    "#packages \n",
    "import numpy as np\n",
    "import scipy as sp\n",
    "import matplotlib.pyplot as plt\n",
    "import sympy as smp\n"
   ]
  },
  {
   "cell_type": "code",
   "execution_count": null,
   "id": "96e97cff",
   "metadata": {},
   "outputs": [],
   "source": [
    "#exponential distribution\n",
    "x=np.linspace(0,3,100)#generate 100 random numbers btn 0,3\n",
    "f=2*np.exp(-2*x)#pdf with lambda =2\n",
    "F=1-2*np.exp(-2*x)# CDF=intergral of f from ive infty to x"
   ]
  },
  {
   "cell_type": "code",
   "execution_count": null,
   "id": "835e1f27",
   "metadata": {},
   "outputs": [],
   "source": [
    "#ploting the 2\n",
    "#plt.style.use(['science','notebook'])\n",
    "plt.figure(figsize=(8,3))\n",
    "plt.plot(x,f, label=r'$f(x)$')\n",
    "plt.plot(x,F, label=r'$F(x)$')\n",
    "plt.legend()\n",
    "plt.xlabel('$x$', fontsize=20)\n",
    "plt.legend()\n",
    "plt.show()"
   ]
  },
  {
   "cell_type": "code",
   "execution_count": 13,
   "id": "79f6f856",
   "metadata": {},
   "outputs": [],
   "source": [
    "#generating 10000 uniform random numbers\n",
    "Us=np.random.rand(10000)\n",
    "#plot to see\n",
    "#plt.hist(Us)\n",
    "#plt.show()\n",
    "#genenerating Finvese Us.. Monte Carlo theorem in use\n",
    "F_inv_Us= -np.log(1-Us)/2"
   ]
  },
  {
   "cell_type": "code",
   "execution_count": 15,
   "id": "fe10f49d",
   "metadata": {},
   "outputs": [
    {
     "data": {
      "image/png": "[encoded data removed]",
      "text/plain": [
       "<Figure size 576x216 with 1 Axes>"
      ]
     },
     "metadata": {
      "needs_background": "light"
     },
     "output_type": "display_data"
    }
   ],
   "source": [
    "#plot to see the F_inv_Us\n",
    "plt.figure(figsize=(8,3))\n",
    "plt.plot(x,f, label=r'$f(x)$')\n",
    "plt.hist(F_inv_Us, histtype='step', color='red', density='norm', bins=100, label='$F^{-1}(u)$')#normalize hist as f(x)\n",
    "plt.legend()\n",
    "plt.xlabel('$x$', fontsize=20)\n",
    "plt.legend()\n",
    "plt.show()"
   ]
  },
  {
   "cell_type": "code",
   "execution_count": 16,
   "id": "67053acc",
   "metadata": {},
   "outputs": [
    {
     "data": {
      "text/latex": [
       "$\\displaystyle F_{1} e^{- \\sqrt{\\frac{x}{E_{1}}}} + F_{2} e^{- \\sqrt{\\frac{x}{E_{2}}}}$"
      ],
      "text/plain": [
       "F_1*exp(-sqrt(x/E_1)) + F_2*exp(-sqrt(x/E_2))"
      ]
     },
     "execution_count": 16,
     "metadata": {},
     "output_type": "execute_result"
    }
   ],
   "source": [
    "x,y,F1,F2,E1,E2 =smp.symbols('x y F_1 F_2 E_1 E_2', real=True, Positive=True)\n",
    "fs=F1*smp.exp(-smp.sqrt(x/E1))+ F2*smp.exp(-smp.sqrt(x/E2))#s stands for symbolic formula\n",
    "fs"
   ]
  },
  {
   "cell_type": "code",
   "execution_count": null,
   "id": "dc193b51",
   "metadata": {},
   "outputs": [],
   "source": [
    "Fs=smp.integrate(fs, (x,0,y)).doit()\n",
    "Fs"
   ]
  },
  {
   "cell_type": "code",
   "execution_count": null,
   "id": "ed1d9fa3",
   "metadata": {},
   "outputs": [],
   "source": [
    "#x,y,lambda =smp.symbols('x y lambda', real=True, Positive=True)\n",
    "#bs=lambda *smp.exp(-lambda * x)\n",
    "#bs"
   ]
  },
  {
   "cell_type": "code",
   "execution_count": null,
   "id": "bc5c3d80",
   "metadata": {},
   "outputs": [],
   "source": [
    "#Bs=smp.integrate(bs, (x,0,y)).doit()\n",
    "#Bs"
   ]
  },
  {
   "cell_type": "code",
   "execution_count": null,
   "id": "ca062060",
   "metadata": {},
   "outputs": [],
   "source": [
    "#Finding the inverse, using neumerical coding\n",
    "Fn=smp.lambdify((y,E1,E2, F1,F2),Fs)\n",
    "fn=smp.lambdify((x,E1,E2, F1,F2),fs)"
   ]
  }
 ],
 "metadata": {
  "kernelspec": {
   "display_name": "Python 3 (ipykernel)",
   "language": "python",
   "name": "python3"
  },
  "language_info": {
   "codemirror_mode": {
    "name": "ipython",
    "version": 3
   },
   "file_extension": ".py",
   "mimetype": "text/x-python",
   "name": "python",
   "nbconvert_exporter": "python",
   "pygments_lexer": "ipython3",
   "version": "3.9.12"
  }
 },
 "nbformat": 4,
 "nbformat_minor": 5
}
